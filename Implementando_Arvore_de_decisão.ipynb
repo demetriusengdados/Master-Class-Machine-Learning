{
  "nbformat": 4,
  "nbformat_minor": 0,
  "metadata": {
    "colab": {
      "name": "Implementando Arvore de decisão.ipynb",
      "provenance": []
    },
    "kernelspec": {
      "name": "python3",
      "display_name": "Python 3"
    }
  },
  "cells": [
    {
      "cell_type": "code",
      "metadata": {
        "id": "F3rW8dx4SvsT"
      },
      "source": [
        "from sklearn import tree\n",
        "xTreino = [[0, 0, 1],\n",
        "           [0, 1, 1],\n",
        "           [0, 0, 0],\n",
        "           #[0, 1, 0], Linha para teste\n",
        "           [1, 0, 1],\n",
        "           [1, 1, 1],\n",
        "           [1, 0, 0],\n",
        "           #[1, 1, 0] linha para teste\n",
        "          ]\n",
        "yTreino = [\n",
        "           1,\n",
        "           1,\n",
        "           1,\n",
        "           #1 Linha teste\n",
        "           0,\n",
        "           0,\n",
        "           0,\n",
        "           #0 linha teste\n",
        "]          \n"
      ],
      "execution_count": 1,
      "outputs": []
    },
    {
      "cell_type": "code",
      "metadata": {
        "id": "Tn6leaLtT43M"
      },
      "source": [
        "xTeste = [\n",
        "          [0, 1, 0],\n",
        "          [1, 1, 0],\n",
        "          ]\n",
        "yTeste = [\n",
        "          1,\n",
        "          0\n",
        "]"
      ],
      "execution_count": 2,
      "outputs": []
    },
    {
      "cell_type": "code",
      "metadata": {
        "id": "syMVaVHgUf4O"
      },
      "source": [
        "arvore = tree.DecisionTreeClassifier()\n",
        "arvore = arvore.fit(xTreino, yTreino)"
      ],
      "execution_count": 3,
      "outputs": []
    },
    {
      "cell_type": "code",
      "metadata": {
        "id": "bOE0eevLUzl9",
        "outputId": "496940a6-1103-4d69-abb2-fb5e3fcf9196",
        "colab": {
          "base_uri": "https://localhost:8080/",
          "height": 34
        }
      },
      "source": [
        "arvore.predict(xTeste)"
      ],
      "execution_count": 4,
      "outputs": [
        {
          "output_type": "execute_result",
          "data": {
            "text/plain": [
              "array([1, 0])"
            ]
          },
          "metadata": {
            "tags": []
          },
          "execution_count": 4
        }
      ]
    },
    {
      "cell_type": "code",
      "metadata": {
        "id": "AMzteuHoVpo4",
        "outputId": "6180274c-2928-4f58-c133-996055eb457c",
        "colab": {
          "base_uri": "https://localhost:8080/",
          "height": 34
        }
      },
      "source": [
        "arvore.feature_importances_"
      ],
      "execution_count": 5,
      "outputs": [
        {
          "output_type": "execute_result",
          "data": {
            "text/plain": [
              "array([1., 0., 0.])"
            ]
          },
          "metadata": {
            "tags": []
          },
          "execution_count": 5
        }
      ]
    }
  ]
}