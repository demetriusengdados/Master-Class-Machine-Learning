{
  "nbformat": 4,
  "nbformat_minor": 0,
  "metadata": {
    "colab": {
      "name": "Dataframe.ipynb",
      "provenance": [],
      "collapsed_sections": []
    },
    "kernelspec": {
      "name": "python3",
      "display_name": "Python 3"
    }
  },
  "cells": [
    {
      "cell_type": "code",
      "metadata": {
        "id": "QuPUW0a48ziV"
      },
      "source": [
        "import pandas as pd"
      ],
      "execution_count": 1,
      "outputs": []
    },
    {
      "cell_type": "code",
      "metadata": {
        "id": "GuGajiyJ9BT9"
      },
      "source": [
        "data ={\n",
        "    'Alunos': ['Caio', 'Jorge','Sophia', 'Claudia', 'Miguel', 'Helena','Bernardo','Valentina', 'Carol', 'Guilherme', 'Otavio', 'Marina', 'Murilo'],\n",
        "    'Idade': [16, 18, 17, 15, 16, 16, 16, 17, 17, 15, 17, 16, 16],\n",
        "    'Nota': [10, 7, 8, 6, 5, 3, 9, 8, 7, 6, 5, 8, 9]\n",
        "}\n",
        "df = pd.DataFrame(data, columns=['Alunos', 'Idade', 'Nota'])\n",
        "\n",
        "df.describe()\n",
        "\n",
        "df.drop([0, 1])\n",
        "\n",
        "df = df.drop([0, 1])\n",
        "\n",
        "df.count()\n",
        "\n",
        "df.columns\n",
        "\n",
        "\n",
        "print(df.columns)"
      ],
      "execution_count": null,
      "outputs": []
    },
    {
      "cell_type": "code",
      "metadata": {
        "id": "LzTtW3fB_C22"
      },
      "source": [
        "df.shape"
      ],
      "execution_count": null,
      "outputs": []
    },
    {
      "cell_type": "code",
      "metadata": {
        "id": "LcE1a4efBp0I"
      },
      "source": [
        "df['Idade'].max()"
      ],
      "execution_count": null,
      "outputs": []
    },
    {
      "cell_type": "code",
      "metadata": {
        "id": "iSBioK1rB8l-"
      },
      "source": [
        "df['Idade'].min()"
      ],
      "execution_count": null,
      "outputs": []
    },
    {
      "cell_type": "code",
      "metadata": {
        "id": "0p47sI2cCI9e"
      },
      "source": [
        "df['Nota'].min()"
      ],
      "execution_count": null,
      "outputs": []
    },
    {
      "cell_type": "code",
      "metadata": {
        "id": "5i8FiTEZCOzA"
      },
      "source": [
        "df.mean()"
      ],
      "execution_count": null,
      "outputs": []
    },
    {
      "cell_type": "code",
      "metadata": {
        "id": "w72uF49cCZef"
      },
      "source": [
        "df.median()"
      ],
      "execution_count": null,
      "outputs": []
    },
    {
      "cell_type": "code",
      "metadata": {
        "id": "HeIpUrJJCdOA"
      },
      "source": [
        "df.sum()"
      ],
      "execution_count": null,
      "outputs": []
    },
    {
      "cell_type": "code",
      "metadata": {
        "id": "nvRum0DsCwlh"
      },
      "source": [
        "df = df['Nota'].add(10)"
      ],
      "execution_count": null,
      "outputs": []
    },
    {
      "cell_type": "code",
      "metadata": {
        "id": "LPQtN2hhDNyS"
      },
      "source": [
        "df['Idade'].sub(3)"
      ],
      "execution_count": null,
      "outputs": []
    },
    {
      "cell_type": "code",
      "metadata": {
        "id": "qEYsJUp0D1Ae"
      },
      "source": [
        "df['Idade'].mul(10)"
      ],
      "execution_count": null,
      "outputs": []
    },
    {
      "cell_type": "code",
      "metadata": {
        "id": "wFfXTlxjD8JH"
      },
      "source": [
        "df['Idade'].div(10)"
      ],
      "execution_count": null,
      "outputs": []
    },
    {
      "cell_type": "code",
      "metadata": {
        "id": "F-Ha_fUtEEyN"
      },
      "source": [
        "print(df['Nota'],[1])"
      ],
      "execution_count": null,
      "outputs": []
    },
    {
      "cell_type": "code",
      "metadata": {
        "id": "9qJOY1wGFBmy"
      },
      "source": [
        "df.head()"
      ],
      "execution_count": null,
      "outputs": []
    },
    {
      "cell_type": "code",
      "metadata": {
        "id": "dH0_jhMvFFZP"
      },
      "source": [
        "df.tail()"
      ],
      "execution_count": null,
      "outputs": []
    },
    {
      "cell_type": "code",
      "metadata": {
        "id": "7TwVU75aFM5f"
      },
      "source": [
        "df.loc[df['Nota'] <= 6]"
      ],
      "execution_count": null,
      "outputs": []
    },
    {
      "cell_type": "code",
      "metadata": {
        "id": "Bg4HVHNtFtMJ"
      },
      "source": [
        "df.loc[df['Idade'] <= 15]"
      ],
      "execution_count": null,
      "outputs": []
    }
  ]
}