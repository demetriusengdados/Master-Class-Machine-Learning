{
  "nbformat": 4,
  "nbformat_minor": 0,
  "metadata": {
    "colab": {
      "name": "Lendo arquivos csv.ipynb",
      "provenance": []
    },
    "kernelspec": {
      "name": "python3",
      "display_name": "Python 3"
    }
  },
  "cells": [
    {
      "cell_type": "code",
      "metadata": {
        "id": "JT0puu7NGGjf"
      },
      "source": [
        "import pandas as pd"
      ],
      "execution_count": 1,
      "outputs": []
    },
    {
      "cell_type": "code",
      "metadata": {
        "id": "iyoufpiMHu0-"
      },
      "source": [
        "df = pd.read_csv('VendaCarros.csv')"
      ],
      "execution_count": null,
      "outputs": []
    },
    {
      "cell_type": "code",
      "metadata": {
        "id": "fniP2fa5KCmF"
      },
      "source": [
        "df.coutn()"
      ],
      "execution_count": null,
      "outputs": []
    },
    {
      "cell_type": "code",
      "metadata": {
        "id": "YK_fYjQKKFLk"
      },
      "source": [
        "df = df.drop('CPC', axis=1)"
      ],
      "execution_count": null,
      "outputs": []
    },
    {
      "cell_type": "code",
      "metadata": {
        "id": "5eYMPp2NKK6m"
      },
      "source": [
        "df = df.drop('Subclasse')"
      ],
      "execution_count": null,
      "outputs": []
    },
    {
      "cell_type": "code",
      "metadata": {
        "id": "OjYB-craKSWt"
      },
      "source": [
        "xlsx = pd.ExcelFile('Nome do arquivo.xlsx')\n",
        "df = pd.read_excel(xlsx, 'Planilha 1')\n"
      ],
      "execution_count": null,
      "outputs": []
    }
  ]
}