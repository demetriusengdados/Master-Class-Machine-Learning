{
  "nbformat": 4,
  "nbformat_minor": 0,
  "metadata": {
    "colab": {
      "name": "Regressão Linear.ipynb",
      "provenance": []
    },
    "kernelspec": {
      "name": "python3",
      "display_name": "Python 3"
    }
  },
  "cells": [
    {
      "cell_type": "code",
      "metadata": {
        "id": "7y1-4eoo8y6V"
      },
      "source": [
        "from sklearn.linear_model import LinearRegression\n",
        "import numpy as np"
      ],
      "execution_count": null,
      "outputs": []
    },
    {
      "cell_type": "code",
      "metadata": {
        "id": "YOhiFOMtCiYr",
        "outputId": "a34f4d70-ea4f-46e4-9a8d-2c15c63f3cfa",
        "colab": {
          "base_uri": "https://localhost:8080/",
          "height": 34
        }
      },
      "source": [
        "idade = np.array([15, 16, 17, 18, 19, 20, 21, 22, 22, 28, 38, 45])\n",
        "salario = np.array([600, 650, 800, 1000, 1200, 1200, 1350, 2300, 1500, 2300, 3000, 4000])\n",
        "idade "
      ],
      "execution_count": null,
      "outputs": [
        {
          "output_type": "execute_result",
          "data": {
            "text/plain": [
              "array([15, 16, 17, 18, 19, 20, 21, 22, 22, 28, 38, 45])"
            ]
          },
          "metadata": {
            "tags": []
          },
          "execution_count": 4
        }
      ]
    },
    {
      "cell_type": "code",
      "metadata": {
        "id": "r3tKtEBHDMgd"
      },
      "source": [
        "import matplotlib.pyplot as plt\n",
        "plt.scatter(idade, salario)\n",
        "plt.show()"
      ],
      "execution_count": null,
      "outputs": []
    },
    {
      "cell_type": "code",
      "metadata": {
        "id": "koGaHsS6DwgG"
      },
      "source": [
        "idade = idade.reshape(-1, 1)\n",
        "idade"
      ],
      "execution_count": null,
      "outputs": []
    },
    {
      "cell_type": "code",
      "metadata": {
        "id": "Wp4gDOpVD6jg"
      },
      "source": [
        "reg = LinearRegression()\n",
        "reg = reg.fit(idade, salario)"
      ],
      "execution_count": null,
      "outputs": []
    },
    {
      "cell_type": "code",
      "metadata": {
        "id": "7vX9SIz9ESR8",
        "outputId": "cf035a5f-7c47-4df5-8998-909cae5913b5",
        "colab": {
          "base_uri": "https://localhost:8080/",
          "height": 34
        }
      },
      "source": [
        "reg.intercept_  #w0 da formula de regressão"
      ],
      "execution_count": null,
      "outputs": [
        {
          "output_type": "execute_result",
          "data": {
            "text/plain": [
              "-894.9435204127024"
            ]
          },
          "metadata": {
            "tags": []
          },
          "execution_count": 11
        }
      ]
    },
    {
      "cell_type": "code",
      "metadata": {
        "id": "MPAi6lZZEVku",
        "outputId": "8237ddd2-543a-4bb9-cc9a-ec90a9b1954b",
        "colab": {
          "base_uri": "https://localhost:8080/",
          "height": 34
        }
      },
      "source": [
        "reg.coef_    #w1 da formula da regressão"
      ],
      "execution_count": null,
      "outputs": [
        {
          "output_type": "execute_result",
          "data": {
            "text/plain": [
              "array([109.03673397])"
            ]
          },
          "metadata": {
            "tags": []
          },
          "execution_count": 12
        }
      ]
    },
    {
      "cell_type": "code",
      "metadata": {
        "id": "jCQ4Ddd0EjIA",
        "outputId": "6c24e9cb-4d4a-49ff-8fed-8b60bf9884da",
        "colab": {
          "base_uri": "https://localhost:8080/",
          "height": 34
        }
      },
      "source": [
        "idadePredict = 22\n",
        "predict = reg.intercept_ + reg.coef_*idadePredict\n",
        "predict"
      ],
      "execution_count": null,
      "outputs": [
        {
          "output_type": "execute_result",
          "data": {
            "text/plain": [
              "array([1503.86462688])"
            ]
          },
          "metadata": {
            "tags": []
          },
          "execution_count": 15
        }
      ]
    },
    {
      "cell_type": "code",
      "metadata": {
        "id": "8re2KdW6F78N",
        "outputId": "04910779-7176-499c-f523-dab63b5bfaa6",
        "colab": {
          "base_uri": "https://localhost:8080/",
          "height": 265
        }
      },
      "source": [
        "previsoes = reg.predict(idade).reshape(-1, 1) #Função dentro do paranteses transforma arrays e listas em matrizes\n",
        "previsoes\n",
        "plt.scatter(idade, salario, color='red')\n",
        "plt.plot(idade, previsoes)\n",
        "plt.show()"
      ],
      "execution_count": 16,
      "outputs": [
        {
          "output_type": "display_data",
          "data": {
            "image/png": "[encoded data removed]",
            "text/plain": [
              "<Figure size 432x288 with 1 Axes>"
            ]
          },
          "metadata": {
            "tags": [],
            "needs_background": "light"
          }
        }
      ]
    }
  ]
}